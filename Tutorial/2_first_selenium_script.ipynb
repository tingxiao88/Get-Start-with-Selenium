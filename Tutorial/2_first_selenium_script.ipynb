{
 "cells": [
  {
   "cell_type": "code",
   "execution_count": 1,
   "metadata": {
    "collapsed": true
   },
   "outputs": [],
   "source": [
    "import time\n",
    "import requests\n",
    "import numpy as np\n",
    "import pandas as pd\n",
    "from bs4 import BeautifulSoup\n",
    "from selenium import webdriver\n",
    "import webbrowser\n",
    "from selenium.webdriver.chrome.options import Options\n",
    "from selenium.webdriver.common.keys import Keys\n",
    "import re\n",
    "from selenium.webdriver.common.by import By"
   ]
  },
  {
   "cell_type": "markdown",
   "source": [
    "# Start up Chrome with Selenium\n",
    "\n",
    "### Make sure that there is no instance of chrome running on your pc"
   ],
   "metadata": {
    "collapsed": false
   }
  },
  {
   "cell_type": "code",
   "execution_count": 2,
   "outputs": [
    {
     "name": "stderr",
     "output_type": "stream",
     "text": [
      "C:\\Users\\STX\\AppData\\Local\\Temp\\ipykernel_21308\\155344705.py:10: DeprecationWarning: executable_path has been deprecated, please pass in a Service object\n",
      "  driver = webdriver.Chrome(path, options=options)\n"
     ]
    }
   ],
   "source": [
    "#=========================\n",
    "# change this variable to your windows username\n",
    "windows_username = \"STX\"\n",
    "#=========================\n",
    "\n",
    "path = 'C:\\chromedriver.exe'\n",
    "options = Options()\n",
    "options.add_argument(f\"user-data-dir=C:/Users/{windows_username}/AppData/Local/Google/Chrome/User Data/\")\n",
    "options.add_argument(\"profile-directory=selenium\")\n",
    "driver = webdriver.Chrome(path, options=options)"
   ],
   "metadata": {
    "collapsed": false,
    "pycharm": {
     "name": "#%%\n"
    }
   }
  },
  {
   "cell_type": "markdown",
   "source": [
    "# The \"Hello World\" Of Selenium\n",
    " - Web Navigation"
   ],
   "metadata": {
    "collapsed": false
   }
  },
  {
   "cell_type": "code",
   "execution_count": 3,
   "outputs": [],
   "source": [
    "driver.get(\"https://www.google.com\")"
   ],
   "metadata": {
    "collapsed": false,
    "pycharm": {
     "name": "#%%\n"
    }
   }
  },
  {
   "cell_type": "markdown",
   "source": [
    "# The sign that it is working\n",
    " - your Chrome tab will navigate to the Google Page\n",
    "\n",
    "![img](../readme_assets/selenium_nav.png)"
   ],
   "metadata": {
    "collapsed": false
   }
  },
  {
   "cell_type": "markdown",
   "source": [
    "# Exercise Locate Elements\n",
    "Question: How to locate items in selenium???\n",
    " - [selenium Documentation on Locating Elements](https://selenium-python.readthedocs.io/locating-elements.html)\n",
    "\n",
    "## Inspect webpage\n",
    "![img](../readme_assets/google_inspect.png)\n",
    "\n",
    "## How to find_element()\n",
    "```\n",
    "from selenium.webdriver.common.by import By\n",
    "\n",
    "driver.find_element(By.ID, \"id\")\n",
    "driver.find_element(By.NAME, \"name\")\n",
    "driver.find_element(By.XPATH, \"xpath\")\n",
    "driver.find_element(By.LINK_TEXT, \"link text\")\n",
    "driver.find_element(By.PARTIAL_LINK_TEXT, \"partial link text\")\n",
    "driver.find_element(By.TAG_NAME, \"tag name\")\n",
    "driver.find_element(By.CLASS_NAME, \"class name\")\n",
    "driver.find_element(By.CSS_SELECTOR, \"css selector\")\n",
    "```\n",
    "\n",
    "## Which method should we use in this case???\n",
    " - we should use ```driver.find_element(By.XPATH, \"xpath\")```\n",
    "     - as google does not provide a regular classname or id. It means it could be randomly generated, not stable/safe to use\n",
    "     - thus we locate the element XHTML path\n",
    "\n",
    "\n"
   ],
   "metadata": {
    "collapsed": false,
    "pycharm": {
     "name": "#%% md\n"
    }
   }
  },
  {
   "cell_type": "code",
   "execution_count": 4,
   "outputs": [
    {
     "data": {
      "text/plain": "'gLFyf'"
     },
     "execution_count": 4,
     "metadata": {},
     "output_type": "execute_result"
    }
   ],
   "source": [
    "from selenium.webdriver.common.by import By\n",
    "from selenium.webdriver.common.action_chains import ActionChains\n",
    "\n",
    "text_area = driver.find_element(By.XPATH,'//input')\n",
    "# get attribute from the element to verify we have selected the right one\n",
    "text_area.get_attribute(\"class\")\n"
   ],
   "metadata": {
    "collapsed": false,
    "pycharm": {
     "name": "#%%\n"
    }
   }
  },
  {
   "cell_type": "markdown",
   "source": [
    "# Do something with the Google Page\n",
    "\n",
    "- in order to utilise the Google page, we need to be able to\n",
    "    - locate the search bar\n",
    "    - input text to the search bar\n",
    "    - send the enter key-stroke to search\n",
    "    -\n",
    "[All the actions that can be implemented using selenium](https://selenium-python.readthedocs.io/api.html#module-selenium.webdriver.common.action_chains)"
   ],
   "metadata": {
    "collapsed": false
   }
  },
  {
   "cell_type": "code",
   "execution_count": 5,
   "outputs": [],
   "source": [
    "text_area.send_keys('what does hello world mean')"
   ],
   "metadata": {
    "collapsed": false,
    "pycharm": {
     "name": "#%%\n"
    }
   }
  },
  {
   "cell_type": "markdown",
   "source": [
    "# The sign that it is working\n",
    "![img](../readme_assets/google_send_stoke.png)\n"
   ],
   "metadata": {
    "collapsed": false
   }
  },
  {
   "cell_type": "markdown",
   "source": [
    "# Send return key to execute this search"
   ],
   "metadata": {
    "collapsed": false,
    "pycharm": {
     "name": "#%% md\n"
    }
   }
  },
  {
   "cell_type": "code",
   "execution_count": 6,
   "outputs": [],
   "source": [
    "from selenium.webdriver.common.keys import Keys\n",
    "text_area.send_keys(Keys.RETURN)\n"
   ],
   "metadata": {
    "collapsed": false,
    "pycharm": {
     "name": "#%%\n"
    }
   }
  },
  {
   "cell_type": "markdown",
   "source": [
    "# The sign that it is working\n",
    "![img](../readme_assets/google_search.png)\n"
   ],
   "metadata": {
    "collapsed": false,
    "pycharm": {
     "name": "#%% md\n"
    }
   }
  },
  {
   "cell_type": "markdown",
   "source": [
    "# Chain it together"
   ],
   "metadata": {
    "collapsed": false
   }
  },
  {
   "cell_type": "code",
   "execution_count": 7,
   "outputs": [],
   "source": [
    "from selenium.webdriver.common.action_chains import ActionChains\n",
    "from selenium.webdriver.common.keys import Keys\n",
    "from selenium.webdriver.common.by import By\n",
    "\n",
    "driver.get(\"https://www.google.com\")\n",
    "text_area = driver.find_element(By.XPATH,'//input')\n",
    "\n",
    "text_area.send_keys('what does hello world mean')\n",
    "text_area.send_keys(Keys.RETURN)\n"
   ],
   "metadata": {
    "collapsed": false,
    "pycharm": {
     "name": "#%%\n"
    }
   }
  }
 ],
 "metadata": {
  "kernelspec": {
   "display_name": "Python 3",
   "language": "python",
   "name": "python3"
  },
  "language_info": {
   "codemirror_mode": {
    "name": "ipython",
    "version": 2
   },
   "file_extension": ".py",
   "mimetype": "text/x-python",
   "name": "python",
   "nbconvert_exporter": "python",
   "pygments_lexer": "ipython2",
   "version": "2.7.6"
  }
 },
 "nbformat": 4,
 "nbformat_minor": 0
}