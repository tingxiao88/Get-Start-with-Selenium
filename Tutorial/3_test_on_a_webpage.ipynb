{
 "cells": [
  {
   "cell_type": "code",
   "execution_count": 1,
   "metadata": {
    "collapsed": true
   },
   "outputs": [],
   "source": [
    "import time\n",
    "import requests\n",
    "import numpy as np\n",
    "import pandas as pd\n",
    "from bs4 import BeautifulSoup\n",
    "from selenium import webdriver\n",
    "import webbrowser\n",
    "from selenium.webdriver.chrome.options import Options\n",
    "from selenium.webdriver.common.keys import Keys\n",
    "import re\n",
    "from selenium.webdriver.common.by import By"
   ]
  },
  {
   "cell_type": "code",
   "execution_count": 3,
   "outputs": [
    {
     "name": "stderr",
     "output_type": "stream",
     "text": [
      "C:\\Users\\STX\\AppData\\Local\\Temp\\ipykernel_10832\\155344705.py:10: DeprecationWarning: executable_path has been deprecated, please pass in a Service object\n",
      "  driver = webdriver.Chrome(path, options=options)\n"
     ]
    }
   ],
   "source": [
    "#=========================\n",
    "# change this variable to your windows username\n",
    "windows_username = \"STX\"\n",
    "#=========================\n",
    "\n",
    "path = 'C:\\chromedriver.exe'\n",
    "options = Options()\n",
    "options.add_argument(f\"user-data-dir=C:/Users/{windows_username}/AppData/Local/Google/Chrome/User Data/\")\n",
    "options.add_argument(\"profile-directory=selenium\")\n",
    "driver = webdriver.Chrome(path, options=options)"
   ],
   "metadata": {
    "collapsed": false,
    "pycharm": {
     "name": "#%%\n"
    }
   }
  },
  {
   "cell_type": "markdown",
   "source": [
    "# Handle Real world website\n",
    "We will be scraping and testing [activants.com](https://activants.com/)\n",
    "\n",
    "## To avoid failed runs, we need to wait until the website is loaded to do any actions.\n",
    "we will check if a certain element in a website is loaded\n",
    " - in this case, we will test if the logo is loaded.\n",
    "\n",
    "![img](../readme_assets/activants.png)\n"
   ],
   "metadata": {
    "collapsed": false
   }
  },
  {
   "cell_type": "code",
   "execution_count": 6,
   "outputs": [],
   "source": [
    "from selenium.webdriver.support.ui import WebDriverWait\n",
    "from selenium.webdriver.support import expected_conditions as EC\n",
    "\n",
    "driver.get(\"https://activants.com/\")\n",
    "\n",
    "wait = WebDriverWait(driver, 10)\n",
    "logo = wait.until(EC.element_to_be_clickable((By.ID, 'logo')))"
   ],
   "metadata": {
    "collapsed": false,
    "pycharm": {
     "name": "#%%\n"
    }
   }
  },
  {
   "cell_type": "markdown",
   "source": [
    "# Let's hoverover the Product Button"
   ],
   "metadata": {
    "collapsed": false
   }
  },
  {
   "cell_type": "code",
   "execution_count": 80,
   "outputs": [
    {
     "ename": "MoveTargetOutOfBoundsException",
     "evalue": "Message: move target out of bounds\n  (Session info: chrome=107.0.5304.107)\nStacktrace:\nBacktrace:\n\tOrdinal0 [0x011FACD3+2075859]\n\tOrdinal0 [0x0118EE61+1633889]\n\tOrdinal0 [0x0108B680+571008]\n\tOrdinal0 [0x010F38E6+997606]\n\tOrdinal0 [0x010D731C+881436]\n\tOrdinal0 [0x010EB56A+963946]\n\tOrdinal0 [0x010D7136+880950]\n\tOrdinal0 [0x010AFEFD+720637]\n\tOrdinal0 [0x010B0F3F+724799]\n\tGetHandleVerifier [0x014AEED2+2769538]\n\tGetHandleVerifier [0x014A0D95+2711877]\n\tGetHandleVerifier [0x0128A03A+521194]\n\tGetHandleVerifier [0x01288DA0+516432]\n\tOrdinal0 [0x0119682C+1665068]\n\tOrdinal0 [0x0119B128+1683752]\n\tOrdinal0 [0x0119B215+1683989]\n\tOrdinal0 [0x011A6484+1729668]\n\tBaseThreadInitThunk [0x76B26939+25]\n\tRtlGetFullPathName_UEx [0x777A8FD2+1218]\n\tRtlGetFullPathName_UEx [0x777A8F9D+1165]\n",
     "output_type": "error",
     "traceback": [
      "\u001B[1;31m---------------------------------------------------------------------------\u001B[0m",
      "\u001B[1;31mMoveTargetOutOfBoundsException\u001B[0m            Traceback (most recent call last)",
      "Cell \u001B[1;32mIn [80], line 15\u001B[0m\n\u001B[0;32m     13\u001B[0m actions\u001B[38;5;241m.\u001B[39mmove_to_element(Products)\n\u001B[0;32m     14\u001B[0m \u001B[38;5;66;03m# actions.click()\u001B[39;00m\n\u001B[1;32m---> 15\u001B[0m \u001B[43mactions\u001B[49m\u001B[38;5;241;43m.\u001B[39;49m\u001B[43mperform\u001B[49m\u001B[43m(\u001B[49m\u001B[43m)\u001B[49m\n",
      "File \u001B[1;32m~\\anaconda3\\envs\\selenium\\lib\\site-packages\\selenium\\webdriver\\common\\action_chains.py:78\u001B[0m, in \u001B[0;36mActionChains.perform\u001B[1;34m(self)\u001B[0m\n\u001B[0;32m     74\u001B[0m \u001B[38;5;28;01mdef\u001B[39;00m \u001B[38;5;21mperform\u001B[39m(\u001B[38;5;28mself\u001B[39m):\n\u001B[0;32m     75\u001B[0m     \u001B[38;5;124;03m\"\"\"\u001B[39;00m\n\u001B[0;32m     76\u001B[0m \u001B[38;5;124;03m    Performs all stored actions.\u001B[39;00m\n\u001B[0;32m     77\u001B[0m \u001B[38;5;124;03m    \"\"\"\u001B[39;00m\n\u001B[1;32m---> 78\u001B[0m     \u001B[38;5;28;43mself\u001B[39;49m\u001B[38;5;241;43m.\u001B[39;49m\u001B[43mw3c_actions\u001B[49m\u001B[38;5;241;43m.\u001B[39;49m\u001B[43mperform\u001B[49m\u001B[43m(\u001B[49m\u001B[43m)\u001B[49m\n",
      "File \u001B[1;32m~\\anaconda3\\envs\\selenium\\lib\\site-packages\\selenium\\webdriver\\common\\actions\\action_builder.py:91\u001B[0m, in \u001B[0;36mActionBuilder.perform\u001B[1;34m(self)\u001B[0m\n\u001B[0;32m     89\u001B[0m         enc[\u001B[38;5;124m\"\u001B[39m\u001B[38;5;124mactions\u001B[39m\u001B[38;5;124m\"\u001B[39m]\u001B[38;5;241m.\u001B[39mappend(encoded)\n\u001B[0;32m     90\u001B[0m         device\u001B[38;5;241m.\u001B[39mactions \u001B[38;5;241m=\u001B[39m []\n\u001B[1;32m---> 91\u001B[0m \u001B[38;5;28;43mself\u001B[39;49m\u001B[38;5;241;43m.\u001B[39;49m\u001B[43mdriver\u001B[49m\u001B[38;5;241;43m.\u001B[39;49m\u001B[43mexecute\u001B[49m\u001B[43m(\u001B[49m\u001B[43mCommand\u001B[49m\u001B[38;5;241;43m.\u001B[39;49m\u001B[43mW3C_ACTIONS\u001B[49m\u001B[43m,\u001B[49m\u001B[43m \u001B[49m\u001B[43menc\u001B[49m\u001B[43m)\u001B[49m\n",
      "File \u001B[1;32m~\\anaconda3\\envs\\selenium\\lib\\site-packages\\selenium\\webdriver\\remote\\webdriver.py:444\u001B[0m, in \u001B[0;36mWebDriver.execute\u001B[1;34m(self, driver_command, params)\u001B[0m\n\u001B[0;32m    442\u001B[0m response \u001B[38;5;241m=\u001B[39m \u001B[38;5;28mself\u001B[39m\u001B[38;5;241m.\u001B[39mcommand_executor\u001B[38;5;241m.\u001B[39mexecute(driver_command, params)\n\u001B[0;32m    443\u001B[0m \u001B[38;5;28;01mif\u001B[39;00m response:\n\u001B[1;32m--> 444\u001B[0m     \u001B[38;5;28;43mself\u001B[39;49m\u001B[38;5;241;43m.\u001B[39;49m\u001B[43merror_handler\u001B[49m\u001B[38;5;241;43m.\u001B[39;49m\u001B[43mcheck_response\u001B[49m\u001B[43m(\u001B[49m\u001B[43mresponse\u001B[49m\u001B[43m)\u001B[49m\n\u001B[0;32m    445\u001B[0m     response[\u001B[38;5;124m\"\u001B[39m\u001B[38;5;124mvalue\u001B[39m\u001B[38;5;124m\"\u001B[39m] \u001B[38;5;241m=\u001B[39m \u001B[38;5;28mself\u001B[39m\u001B[38;5;241m.\u001B[39m_unwrap_value(response\u001B[38;5;241m.\u001B[39mget(\u001B[38;5;124m\"\u001B[39m\u001B[38;5;124mvalue\u001B[39m\u001B[38;5;124m\"\u001B[39m, \u001B[38;5;28;01mNone\u001B[39;00m))\n\u001B[0;32m    446\u001B[0m     \u001B[38;5;28;01mreturn\u001B[39;00m response\n",
      "File \u001B[1;32m~\\anaconda3\\envs\\selenium\\lib\\site-packages\\selenium\\webdriver\\remote\\errorhandler.py:249\u001B[0m, in \u001B[0;36mErrorHandler.check_response\u001B[1;34m(self, response)\u001B[0m\n\u001B[0;32m    247\u001B[0m         alert_text \u001B[38;5;241m=\u001B[39m value[\u001B[38;5;124m\"\u001B[39m\u001B[38;5;124malert\u001B[39m\u001B[38;5;124m\"\u001B[39m]\u001B[38;5;241m.\u001B[39mget(\u001B[38;5;124m\"\u001B[39m\u001B[38;5;124mtext\u001B[39m\u001B[38;5;124m\"\u001B[39m)\n\u001B[0;32m    248\u001B[0m     \u001B[38;5;28;01mraise\u001B[39;00m exception_class(message, screen, stacktrace, alert_text)  \u001B[38;5;66;03m# type: ignore[call-arg]  # mypy is not smart enough here\u001B[39;00m\n\u001B[1;32m--> 249\u001B[0m \u001B[38;5;28;01mraise\u001B[39;00m exception_class(message, screen, stacktrace)\n",
      "\u001B[1;31mMoveTargetOutOfBoundsException\u001B[0m: Message: move target out of bounds\n  (Session info: chrome=107.0.5304.107)\nStacktrace:\nBacktrace:\n\tOrdinal0 [0x011FACD3+2075859]\n\tOrdinal0 [0x0118EE61+1633889]\n\tOrdinal0 [0x0108B680+571008]\n\tOrdinal0 [0x010F38E6+997606]\n\tOrdinal0 [0x010D731C+881436]\n\tOrdinal0 [0x010EB56A+963946]\n\tOrdinal0 [0x010D7136+880950]\n\tOrdinal0 [0x010AFEFD+720637]\n\tOrdinal0 [0x010B0F3F+724799]\n\tGetHandleVerifier [0x014AEED2+2769538]\n\tGetHandleVerifier [0x014A0D95+2711877]\n\tGetHandleVerifier [0x0128A03A+521194]\n\tGetHandleVerifier [0x01288DA0+516432]\n\tOrdinal0 [0x0119682C+1665068]\n\tOrdinal0 [0x0119B128+1683752]\n\tOrdinal0 [0x0119B215+1683989]\n\tOrdinal0 [0x011A6484+1729668]\n\tBaseThreadInitThunk [0x76B26939+25]\n\tRtlGetFullPathName_UEx [0x777A8FD2+1218]\n\tRtlGetFullPathName_UEx [0x777A8F9D+1165]\n"
     ]
    }
   ],
   "source": [
    "from selenium.webdriver.common.action_chains import ActionChains\n",
    "from selenium.webdriver.common.keys import Keys\n",
    "from selenium.webdriver.common.by import By\n",
    "\n",
    "driver.get(\"https://activants.com/\")\n",
    "wait = WebDriverWait(driver, 10)\n",
    "logo = wait.until(EC.element_to_be_clickable((By.ID, 'logo')))\n",
    "\n",
    "\n",
    "actions = ActionChains(driver)\n",
    "Products = driver.find_element(By.CLASS_NAME,'menu-item-5845')\n",
    "\n",
    "actions.move_to_element(Products)\n",
    "# actions.click()\n",
    "actions.perform()"
   ],
   "metadata": {
    "collapsed": false,
    "pycharm": {
     "name": "#%%\n"
    }
   }
  },
  {
   "cell_type": "markdown",
   "source": [
    "# Let's inspect the document\n",
    "\n",
    "![img](../readme_assets/inspect_activants.png)\n"
   ],
   "metadata": {
    "collapsed": false,
    "pycharm": {
     "name": "#%% md\n"
    }
   }
  },
  {
   "cell_type": "code",
   "execution_count": 75,
   "outputs": [],
   "source": [
    "Nav = driver.find_element(By.ID, 'menu-newmainmenu-1')\n",
    "Nav.get_attribute('width')"
   ],
   "metadata": {
    "collapsed": false,
    "pycharm": {
     "name": "#%%\n"
    }
   }
  },
  {
   "cell_type": "code",
   "execution_count": 76,
   "outputs": [
    {
     "data": {
      "text/plain": "(590, 54)"
     },
     "execution_count": 76,
     "metadata": {},
     "output_type": "execute_result"
    }
   ],
   "source": [
    "size = Nav.size\n",
    "w, h = size['width'], size['height']\n",
    "w, h"
   ],
   "metadata": {
    "collapsed": false,
    "pycharm": {
     "name": "#%%\n"
    }
   }
  },
  {
   "cell_type": "code",
   "execution_count": 83,
   "outputs": [],
   "source": [
    "from selenium.webdriver.common.action_chains import ActionChains\n",
    "from selenium.webdriver.common.keys import Keys\n",
    "from selenium.webdriver.common.by import By\n",
    "\n",
    "driver.get(\"https://activants.com/\")\n",
    "wait = WebDriverWait(driver, 10)\n",
    "logo = wait.until(EC.element_to_be_clickable((By.ID, 'logo')))\n",
    "\n",
    "\n",
    "actions = ActionChains(driver)\n",
    "Nav = driver.find_element(By.ID, 'menu-newmainmenu-1')\n",
    "Nav.get_attribute('width')\n",
    "size = Nav.size\n",
    "w, h = size['width'], size['height']\n",
    "\n",
    "actions.move_to_element_with_offset(Nav, -w/5*2, 0)\n",
    "# actions.click()\n",
    "actions.perform()"
   ],
   "metadata": {
    "collapsed": false,
    "pycharm": {
     "name": "#%%\n"
    }
   }
  },
  {
   "cell_type": "markdown",
   "source": [
    "# With math, we can solve this problem\n",
    "![img](../readme_assets/select_product.png)"
   ],
   "metadata": {
    "collapsed": false,
    "pycharm": {
     "name": "#%% md\n"
    }
   }
  },
  {
   "cell_type": "markdown",
   "source": [
    "# Now, let's move the mouse down and click the first item in the drawer"
   ],
   "metadata": {
    "collapsed": false
   }
  },
  {
   "cell_type": "code",
   "execution_count": 85,
   "outputs": [],
   "source": [
    "from selenium.webdriver.common.action_chains import ActionChains\n",
    "from selenium.webdriver.common.keys import Keys\n",
    "from selenium.webdriver.common.by import By\n",
    "\n",
    "driver.get(\"https://activants.com/\")\n",
    "wait = WebDriverWait(driver, 10)\n",
    "logo = wait.until(EC.element_to_be_clickable((By.ID, 'logo')))\n",
    "\n",
    "\n",
    "actions = ActionChains(driver)\n",
    "Nav = driver.find_element(By.ID, 'menu-newmainmenu-1')\n",
    "Nav.get_attribute('width')\n",
    "size = Nav.size\n",
    "w, h = size['width'], size['height']\n",
    "\n",
    "actions.move_to_element_with_offset(Nav, -w/5*2, 0)\n",
    "actions.move_by_offset(0, 30)\n",
    "actions.click()\n",
    "actions.perform()"
   ],
   "metadata": {
    "collapsed": false,
    "pycharm": {
     "name": "#%%\n"
    }
   }
  },
  {
   "cell_type": "markdown",
   "source": [
    "# This is how it looks like\n",
    "![loop](../readme_assets/whole_loop.gif)"
   ],
   "metadata": {
    "collapsed": false
   }
  },
  {
   "cell_type": "markdown",
   "source": [
    "# Extract content from a webpage\n",
    "\n",
    "![img](../readme_assets/CDA.png)\n"
   ],
   "metadata": {
    "collapsed": false,
    "pycharm": {
     "name": "#%% md\n"
    }
   }
  },
  {
   "cell_type": "code",
   "execution_count": 112,
   "outputs": [
    {
     "name": "stdout",
     "output_type": "stream",
     "text": [
      "\n",
      "\t\t\t\t<h3 class=\"elementor-icon-box-title\">\n",
      "\t\t\t\t\t<span>\n",
      "\t\t\t\t\t\tOMNICHANNEL CAPTURE\t\t\t\t\t</span>\n",
      "\t\t\t\t</h3>\n",
      "\t\t\t\t\t\t\t\t\t<p class=\"elementor-icon-box-description\">\n",
      "\t\t\t\t\t\tAutomates the receipt, entry, processing and output / integration of documents and electronic data in virtually any format, from any source, to any destination.\t\t\t\t\t</p>\n",
      "\t\t\t\t\t\t\t\n"
     ]
    }
   ],
   "source": [
    "first_box = driver.find_element(By.CLASS_NAME,'elementor-icon-box-content')\n",
    "# check out the innerHTML\n",
    "print(first_box.get_attribute('innerHTML'))\n"
   ],
   "metadata": {
    "collapsed": false,
    "pycharm": {
     "name": "#%%\n"
    }
   }
  },
  {
   "cell_type": "code",
   "execution_count": 114,
   "outputs": [
    {
     "name": "stdout",
     "output_type": "stream",
     "text": [
      "OMNICHANNEL CAPTURE\n",
      "Automates the receipt, entry, processing and output / integration of documents and electronic data in virtually any format, from any source, to any destination.\n"
     ]
    }
   ],
   "source": [
    "# when finding element inside an element from a element\n",
    "# put a dot before //\n",
    "title = first_box.find_element(By.XPATH, './/h3').get_attribute('innerText')\n",
    "text = first_box.find_element(By.XPATH, './/p').get_attribute('innerText')\n",
    "print(title)\n",
    "print(text)"
   ],
   "metadata": {
    "collapsed": false,
    "pycharm": {
     "name": "#%%\n"
    }
   }
  },
  {
   "cell_type": "markdown",
   "source": [
    "# Now We want to extract the whole text block below\n",
    " - we must use find_elements to find all instances\n",
    " - then followed with a for loop to extract the information\n",
    "\n",
    "![img](../readme_assets/activants_text.png)\n",
    "\n"
   ],
   "metadata": {
    "collapsed": false,
    "pycharm": {
     "name": "#%% md\n"
    }
   }
  },
  {
   "cell_type": "code",
   "execution_count": 127,
   "outputs": [
    {
     "name": "stdout",
     "output_type": "stream",
     "text": [
      "8\n"
     ]
    },
    {
     "data": {
      "text/plain": "['\\n\\t\\t\\t\\t<h3 class=\"elementor-icon-box-title\">\\n\\t\\t\\t\\t\\t<span>\\n\\t\\t\\t\\t\\t\\tOMNICHANNEL CAPTURE\\t\\t\\t\\t\\t</span>\\n\\t\\t\\t\\t</h3>\\n\\t\\t\\t\\t\\t\\t\\t\\t\\t<p class=\"elementor-icon-box-description\">\\n\\t\\t\\t\\t\\t\\tAutomates the receipt, entry, processing and output / integration of documents and electronic data in virtually any format, from any source, to any destination.\\t\\t\\t\\t\\t</p>\\n\\t\\t\\t\\t\\t\\t\\t',\n '\\n\\t\\t\\t\\t<h3 class=\"elementor-icon-box-title\">\\n\\t\\t\\t\\t\\t<span>\\n\\t\\t\\t\\t\\t\\tAUTOMATIC QUALITY ENHANCEMENT\\t\\t\\t\\t\\t</span>\\n\\t\\t\\t\\t</h3>\\n\\t\\t\\t\\t\\t\\t\\t\\t\\t<p class=\"elementor-icon-box-description\">\\n\\t\\t\\t\\t\\t\\tAutomatically cleans, rotates, crops and deskews documents before data is extracted and delivered into business processes.\\t\\t\\t\\t\\t</p>\\n\\t\\t\\t\\t\\t\\t\\t',\n '\\n\\t\\t\\t\\t<h3 class=\"elementor-icon-box-title\">\\n\\t\\t\\t\\t\\t<span>\\n\\t\\t\\t\\t\\t\\tINTELLIGENT EXTRACTION\\t\\t\\t\\t\\t</span>\\n\\t\\t\\t\\t</h3>\\n\\t\\t\\t\\t\\t\\t\\t\\t\\t<p class=\"elementor-icon-box-description\">\\n\\t\\t\\t\\t\\t\\tAdvanced capture technologies that can classify, separate and extract large volumes of documents, regardless of type, content or format by leveraging machine learning technology, configurable classifiers and locators and validation rules.\\t\\t\\t\\t\\t</p>\\n\\t\\t\\t\\t\\t\\t\\t',\n '\\n\\t\\t\\t\\t<h3 class=\"elementor-icon-box-title\">\\n\\t\\t\\t\\t\\t<span>\\n\\t\\t\\t\\t\\t\\tON-DEVICE CAPTURE\\t\\t\\t\\t\\t</span>\\n\\t\\t\\t\\t</h3>\\n\\t\\t\\t\\t\\t\\t\\t\\t\\t<p class=\"elementor-icon-box-description\">\\n\\t\\t\\t\\t\\t\\tDeliver more services via your customers’ preferred channel by turning customers\\' smartphones and tablets into advanced document-capture devices and deliver fast, frictionless customer experience.\\t\\t\\t\\t\\t</p>\\n\\t\\t\\t\\t\\t\\t\\t',\n '\\n\\t\\t\\t\\t<h3 class=\"elementor-icon-box-title\">\\n\\t\\t\\t\\t\\t<span>\\n\\t\\t\\t\\t\\t\\tINTEGRATED ANALYTICS\\t\\t\\t\\t\\t</span>\\n\\t\\t\\t\\t</h3>\\n\\t\\t\\t\\t\\t\\t\\t\\t\\t<p class=\"elementor-icon-box-description\">\\n\\t\\t\\t\\t\\t\\tMonitor the efficiency of operations down to the granular level of user, document and index field. Where errors and bottlenecks occur, work to reduce or eliminate friction, increase productivity and better serve and engage customers.\\t\\t\\t\\t\\t</p>\\n\\t\\t\\t\\t\\t\\t\\t',\n '\\n\\t\\t\\t\\t<h3 class=\"elementor-icon-box-title\">\\n\\t\\t\\t\\t\\t<span>\\n\\t\\t\\t\\t\\t\\tVisit Us\\t\\t\\t\\t\\t</span>\\n\\t\\t\\t\\t</h3>\\n\\t\\t\\t\\t\\t\\t\\t\\t\\t<p class=\"elementor-icon-box-description\">\\n\\t\\t\\t\\t\\t\\t24 Sin Ming Lane<br>\\n#08-105 Midview City<br>\\nSingapore 573970\\t\\t\\t\\t\\t</p>\\n\\t\\t\\t\\t\\t\\t\\t',\n '\\n\\t\\t\\t\\t<h3 class=\"elementor-icon-box-title\">\\n\\t\\t\\t\\t\\t<span>\\n\\t\\t\\t\\t\\t\\tContact Us\\t\\t\\t\\t\\t</span>\\n\\t\\t\\t\\t</h3>\\n\\t\\t\\t\\t\\t\\t\\t\\t\\t<p class=\"elementor-icon-box-description\">\\n\\t\\t\\t\\t\\t\\tTel. (65) 6684 7044<br>\\nFax. (65) 6684 7042\\t\\t\\t\\t\\t</p>\\n\\t\\t\\t\\t\\t\\t\\t',\n '\\n\\t\\t\\t\\t<h3 class=\"elementor-icon-box-title\">\\n\\t\\t\\t\\t\\t<span>\\n\\t\\t\\t\\t\\t\\tEmail Us\\t\\t\\t\\t\\t</span>\\n\\t\\t\\t\\t</h3>\\n\\t\\t\\t\\t\\t\\t\\t\\t\\t<p class=\"elementor-icon-box-description\">\\n\\t\\t\\t\\t\\t\\t<a href=\"mailto:info@activants.com\" style=\"color: #636363\">info@activants.com</a>\\t\\t\\t\\t\\t</p>\\n\\t\\t\\t\\t\\t\\t\\t']"
     },
     "execution_count": 127,
     "metadata": {},
     "output_type": "execute_result"
    }
   ],
   "source": [
    "box_list = driver.find_elements(By.CLASS_NAME,'elementor-icon-box-content')\n",
    "box_list_html = [i.get_attribute('innerHTML') for i in box_list]\n",
    "print(len(box_list_html))\n",
    "# only the first 5 are relevant\n",
    "box_list_html"
   ],
   "metadata": {
    "collapsed": false,
    "pycharm": {
     "name": "#%%\n"
    }
   }
  },
  {
   "cell_type": "code",
   "execution_count": 128,
   "outputs": [
    {
     "name": "stdout",
     "output_type": "stream",
     "text": [
      "['OMNICHANNEL CAPTURE', 'AUTOMATIC QUALITY ENHANCEMENT', 'INTELLIGENT EXTRACTION', 'ON-DEVICE CAPTURE', 'INTEGRATED ANALYTICS']\n",
      "['Automates the receipt, entry, processing and output / integration of documents and electronic data in virtually any format, from any source, to any destination.', 'Automatically cleans, rotates, crops and deskews documents before data is extracted and delivered into business processes.', 'Advanced capture technologies that can classify, separate and extract large volumes of documents, regardless of type, content or format by leveraging machine learning technology, configurable classifiers and locators and validation rules.', \"Deliver more services via your customers’ preferred channel by turning customers' smartphones and tablets into advanced document-capture devices and deliver fast, frictionless customer experience.\", 'Monitor the efficiency of operations down to the granular level of user, document and index field. Where errors and bottlenecks occur, work to reduce or eliminate friction, increase productivity and better serve and engage customers.']\n"
     ]
    },
    {
     "data": {
      "text/plain": "(None, None)"
     },
     "execution_count": 128,
     "metadata": {},
     "output_type": "execute_result"
    }
   ],
   "source": [
    "title_list = []\n",
    "description_list = []\n",
    "\n",
    "for i in range(5):\n",
    "    current_element = box_list[i]\n",
    "    temp_title = current_element.find_element(By.XPATH, './/h3').get_attribute('innerText')\n",
    "    temp_description = current_element.find_element(By.XPATH, './/p').get_attribute('innerText')\n",
    "    title_list.append(temp_title)\n",
    "    description_list.append(temp_description)\n",
    "\n",
    "print(title_list), print(description_list)"
   ],
   "metadata": {
    "collapsed": false,
    "pycharm": {
     "name": "#%%\n"
    }
   }
  },
  {
   "cell_type": "markdown",
   "source": [
    "# You are now ready to explore in the world of Selenium with Python\n",
    "![img](../readme_assets/gl.gif)"
   ],
   "metadata": {
    "collapsed": false,
    "pycharm": {
     "name": "#%% md\n"
    }
   }
  }
 ],
 "metadata": {
  "kernelspec": {
   "display_name": "Python 3",
   "language": "python",
   "name": "python3"
  },
  "language_info": {
   "codemirror_mode": {
    "name": "ipython",
    "version": 2
   },
   "file_extension": ".py",
   "mimetype": "text/x-python",
   "name": "python",
   "nbconvert_exporter": "python",
   "pygments_lexer": "ipython2",
   "version": "2.7.6"
  }
 },
 "nbformat": 4,
 "nbformat_minor": 0
}