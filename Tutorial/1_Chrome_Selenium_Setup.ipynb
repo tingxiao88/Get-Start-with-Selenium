{
 "cells": [
  {
   "cell_type": "code",
   "execution_count": 1,
   "metadata": {
    "collapsed": true
   },
   "outputs": [],
   "source": [
    "import time\n",
    "import requests\n",
    "import numpy as np\n",
    "import pandas as pd\n",
    "from bs4 import BeautifulSoup\n",
    "from selenium import webdriver\n",
    "import webbrowser\n",
    "from selenium.webdriver.chrome.options import Options\n",
    "from selenium.webdriver.common.keys import Keys\n",
    "import re\n",
    "from selenium.webdriver.common.by import By\n"
   ]
  },
  {
   "cell_type": "markdown",
   "source": [
    "# What are we doing with the follow cell of code?\n",
    " - we are creating a chrome profile for you\n",
    " - WHY???\n",
    "    - There will be a scenario where the website we are trying to access needs login\n",
    "    - By having this profile setup, we could add google account\n",
    "        -  Which allows Google persistent login\n",
    "\n",
    "# Can I run the following cell directly?\n",
    " - You will have to change the windows_username variable according to your pc\n",
    " - You can navigate in the file explorer as shown below\n",
    "\n",
    "\n",
    "![img](assets/explorer_username.png)\n",
    "\n",
    "<img src=\"../readme_assets/explorer_username.png\" />"
   ],
   "metadata": {
    "collapsed": false,
    "pycharm": {
     "name": "#%% md\n"
    }
   }
  },
  {
   "cell_type": "markdown",
   "source": [
    "# Before we do anything, we must close all Chrome browser instance, use edge as your browser.\n"
   ],
   "metadata": {
    "collapsed": false
   }
  },
  {
   "cell_type": "code",
   "execution_count": 3,
   "outputs": [
    {
     "name": "stderr",
     "output_type": "stream",
     "text": [
      "C:\\Users\\STX\\AppData\\Local\\Temp\\ipykernel_14904\\155344705.py:10: DeprecationWarning: executable_path has been deprecated, please pass in a Service object\n",
      "  driver = webdriver.Chrome(path, options=options)\n"
     ]
    }
   ],
   "source": [
    "#=========================\n",
    "# change this variable to your windows username\n",
    "windows_username = \"STX\"\n",
    "#=========================\n",
    "\n",
    "path = 'C:\\chromedriver.exe'\n",
    "options = Options()\n",
    "options.add_argument(f\"user-data-dir=C:/Users/{windows_username}/AppData/Local/Google/Chrome/User Data/\")\n",
    "options.add_argument(\"profile-directory=selenium\")\n",
    "driver = webdriver.Chrome(path, options=options)"
   ],
   "metadata": {
    "collapsed": false,
    "pycharm": {
     "name": "#%%\n"
    }
   }
  },
  {
   "cell_type": "markdown",
   "source": [
    "# if successful\n",
    " - you will be able to see a Chrome browser show up.\n",
    " - if it prompts you to set up the user, just follow the instruction\n",
    " - Now you are ready to move on to the next tutorial\n",
    "![img](../readme_assets/chrome_selenium.png)"
   ],
   "metadata": {
    "collapsed": false
   }
  },
  {
   "cell_type": "code",
   "execution_count": null,
   "outputs": [],
   "source": [],
   "metadata": {
    "collapsed": false,
    "pycharm": {
     "name": "#%%\n"
    }
   }
  }
 ],
 "metadata": {
  "kernelspec": {
   "display_name": "Python 3",
   "language": "python",
   "name": "python3"
  },
  "language_info": {
   "codemirror_mode": {
    "name": "ipython",
    "version": 2
   },
   "file_extension": ".py",
   "mimetype": "text/x-python",
   "name": "python",
   "nbconvert_exporter": "python",
   "pygments_lexer": "ipython2",
   "version": "2.7.6"
  }
 },
 "nbformat": 4,
 "nbformat_minor": 0
}