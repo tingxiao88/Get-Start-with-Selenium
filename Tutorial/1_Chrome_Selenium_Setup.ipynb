{
 "cells": [
  {
   "cell_type": "markdown",
   "source": [
    "# Download the file and view it in Text Editor\n",
    "### images and instructions do not display properly in Markdown on Github"
   ],
   "metadata": {
    "collapsed": false,
    "pycharm": {
     "name": "#%% md\n"
    }
   }
  },
  {
   "cell_type": "code",
   "execution_count": 1,
   "metadata": {
    "collapsed": true
   },
   "outputs": [],
   "source": [
    "import time\n",
    "import requests\n",
    "import numpy as np\n",
    "import pandas as pd\n",
    "from bs4 import BeautifulSoup\n",
    "from selenium import webdriver\n",
    "import webbrowser\n",
    "from selenium.webdriver.chrome.options import Options\n",
    "from selenium.webdriver.common.keys import Keys\n",
    "import re\n",
    "from selenium.webdriver.common.by import By\n",
    "from IPython import display\n"
   ]
  },
  {
   "cell_type": "markdown",
   "metadata": {
    "pycharm": {
     "name": "#%% md\n"
    }
   },
   "source": [
    "# What are we doing with the follow cell of code?\n",
    " - we are creating a chrome profile for you\n",
    " - WHY???\n",
    "    - There will be a scenario where the website we are trying to access needs login\n",
    "    - By having this profile setup, we could add google account\n",
    "        -  Which allows Google persistent login\n",
    "\n",
    "# Can I run the following cell directly?\n",
    " - You will have to change the windows_username variable according to your pc\n",
    " - You can navigate in the file explorer as shown below\n",
    "\n",
    "![img](../readme_assets/explorer_username.png)"
   ]
  },
  {
   "cell_type": "markdown",
   "metadata": {},
   "source": [
    "# Before we do anything, we must close all Chrome browser instance, use edge as your browser."
   ]
  },
  {
   "cell_type": "code",
   "execution_count": 3,
   "metadata": {
    "pycharm": {
     "name": "#%%\n"
    }
   },
   "outputs": [
    {
     "name": "stderr",
     "output_type": "stream",
     "text": [
      "C:\\Users\\STX\\AppData\\Local\\Temp\\ipykernel_14904\\155344705.py:10: DeprecationWarning: executable_path has been deprecated, please pass in a Service object\n",
      "  driver = webdriver.Chrome(path, options=options)\n"
     ]
    }
   ],
   "source": [
    "#=========================\n",
    "# change this variable to your windows username\n",
    "windows_username = \"STX\"\n",
    "#=========================\n",
    "\n",
    "path = 'C:\\chromedriver.exe'\n",
    "options = Options()\n",
    "options.add_argument(f\"user-data-dir=C:/Users/{windows_username}/AppData/Local/Google/Chrome/User Data/\")\n",
    "options.add_argument(\"profile-directory=selenium\")\n",
    "driver = webdriver.Chrome(path, options=options)"
   ]
  },
  {
   "cell_type": "markdown",
   "metadata": {},
   "source": [
    "# if successful\n",
    " - you will be able to see a Chrome browser show up.\n",
    " - if it prompts you to set up the user, just follow the instruction\n",
    " - Now you are ready to move on to the next tutorial\n",
    "![img](../readme_assets/chrome_selenium.png)"
   ]
  },
  {
   "cell_type": "code",
   "execution_count": null,
   "metadata": {
    "pycharm": {
     "name": "#%%\n"
    }
   },
   "outputs": [],
   "source": []
  }
 ],
 "metadata": {
  "kernelspec": {
   "display_name": "Python 3 (ipykernel)",
   "language": "python",
   "name": "python3"
  },
  "language_info": {
   "codemirror_mode": {
    "name": "ipython",
    "version": 3
   },
   "file_extension": ".py",
   "mimetype": "text/x-python",
   "name": "python",
   "nbconvert_exporter": "python",
   "pygments_lexer": "ipython3",
   "version": "3.9.0"
  }
 },
 "nbformat": 4,
 "nbformat_minor": 1
}